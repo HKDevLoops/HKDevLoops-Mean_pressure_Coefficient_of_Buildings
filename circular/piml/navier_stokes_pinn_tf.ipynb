{
 "cells": [
  {
   "metadata": {
    "ExecuteTime": {
     "end_time": "2025-02-03T20:46:19.415590Z",
     "start_time": "2025-02-03T20:46:19.412293Z"
    }
   },
   "cell_type": "code",
   "source": "",
   "id": "18d21d5b09fb1a09",
   "outputs": [],
   "execution_count": null
  },
  {
   "metadata": {
    "collapsed": true,
    "ExecuteTime": {
     "end_time": "2025-02-03T20:46:19.488204Z",
     "start_time": "2025-02-03T20:46:19.443148Z"
    }
   },
   "cell_type": "code",
   "source": [
    "import deepxde as dde\n",
    "import numpy as np\n",
    "import matplotlib.pyplot as plt\n",
    "import tensorflow as tf\n",
    "from deepxde.backend import tf\n",
    "\n",
    "# Define Navier-Stokes equations for 2D steady-state incompressible flow\n",
    "def navier_stokes(pde_input, u, v, p, Re=100):\n",
    "    x, y = pde_input[:, 0:1], pde_input[:, 1:2]\n",
    "\n",
    "    u_x = dde.grad.jacobian(u, pde_input, i=0, j=0)\n",
    "    u_y = dde.grad.jacobian(u, pde_input, i=0, j=1)\n",
    "    v_x = dde.grad.jacobian(v, pde_input, i=0, j=0)\n",
    "    v_y = dde.grad.jacobian(v, pde_input, i=0, j=1)\n",
    "    p_x = dde.grad.jacobian(p, pde_input, i=0, j=0)\n",
    "    p_y = dde.grad.jacobian(p, pde_input, i=0, j=1)\n",
    "\n",
    "    u_xx = dde.grad.hessian(u, pde_input, i=0, j=0)\n",
    "    u_yy = dde.grad.hessian(u, pde_input, i=1, j=1)\n",
    "    v_xx = dde.grad.hessian(v, pde_input, i=0, j=0)\n",
    "    v_yy = dde.grad.hessian(v, pde_input, i=1, j=1)\n",
    "\n",
    "    continuity_eq = u_x + v_y\n",
    "    momentum_x = u * u_x + v * u_y + p_x - (1 / Re) * (u_xx + u_yy)\n",
    "    momentum_y = u * v_x + v * v_y + p_y - (1 / Re) * (v_xx + v_yy)\n",
    "\n",
    "    return [continuity_eq, momentum_x, momentum_y]\n",
    "\n",
    "# Define the geometry of the circular airfoil\n",
    "def circular_airfoil():\n",
    "    def boundary(x, _):\n",
    "        return np.sqrt(x[:, 0] ** 2 + x[:, 1] ** 2) < 1.0\n",
    "\n",
    "    geom = dde.geometry.Rectangle([-2, -1], [4, 1])\n",
    "    circle = dde.geometry.Disk([0, 0], 1)\n",
    "    domain = geom - circle\n",
    "    return domain, boundary\n",
    "\n",
    "# Define PINN model\n",
    "def train_pinn():\n",
    "    domain, boundary = circular_airfoil()\n",
    "    data = dde.data.PDE(domain, navier_stokes, [], num_domain=10000, num_boundary=2000)\n",
    "\n",
    "    net = dde.maps.FNN([2] + [50] * 4 + [3], \"tanh\", \"Glorot normal\")\n",
    "    model = dde.Model(data, net)\n",
    "    model.compile(\"adam\", lr=0.001)\n",
    "\n",
    "    loss_history, train_state = model.train(iterations=10000)\n",
    "    dde.saveplot(loss_history, train_state, issave=True, isplot=True)\n",
    "    return model\n",
    "\n",
    "# Train and evaluate PINN model\n",
    "model = train_pinn()\n",
    "\n",
    "# Predict velocity and pressure fields\n",
    "n_test = 1000\n",
    "test_points = np.random.uniform([-2, -1], [4, 1], size=(n_test, 2))\n",
    "flow_field = model.predict(test_points)\n",
    "\n",
    "# Plot velocity field\n",
    "plt.figure(figsize=(8, 6))\n",
    "plt.quiver(test_points[:, 0], test_points[:, 1], flow_field[:, 0], flow_field[:, 1], color='blue')\n",
    "plt.xlabel(\"X Position\")\n",
    "plt.ylabel(\"Y Position\")\n",
    "plt.title(\"Predicted Velocity Field Over Airfoil\")\n",
    "plt.grid(True)\n",
    "plt.show()\n",
    "\n",
    "# Compute performance metrics\n",
    "r2 = dde.metrics.r2_score(np.zeros_like(flow_field[:, 2]), flow_field[:, 2])\n",
    "mse = dde.metrics.mean_squared_error(np.zeros_like(flow_field[:, 2]), flow_field[:, 2])\n",
    "print(f\"Model Performance: R² = {r2:.4f}, MSE = {mse:.6f}\")\n"
   ],
   "id": "initial_id",
   "outputs": [
    {
     "ename": "ModuleNotFoundError",
     "evalue": "No module named 'deepxde'",
     "output_type": "error",
     "traceback": [
      "\u001B[1;31m---------------------------------------------------------------------------\u001B[0m",
      "\u001B[1;31mModuleNotFoundError\u001B[0m                       Traceback (most recent call last)",
      "Cell \u001B[1;32mIn[2], line 1\u001B[0m\n\u001B[1;32m----> 1\u001B[0m \u001B[38;5;28;01mimport\u001B[39;00m \u001B[38;5;21;01mdeepxde\u001B[39;00m \u001B[38;5;28;01mas\u001B[39;00m \u001B[38;5;21;01mdde\u001B[39;00m\n\u001B[0;32m      2\u001B[0m \u001B[38;5;28;01mimport\u001B[39;00m \u001B[38;5;21;01mnumpy\u001B[39;00m \u001B[38;5;28;01mas\u001B[39;00m \u001B[38;5;21;01mnp\u001B[39;00m\n\u001B[0;32m      3\u001B[0m \u001B[38;5;28;01mimport\u001B[39;00m \u001B[38;5;21;01mmatplotlib\u001B[39;00m\u001B[38;5;21;01m.\u001B[39;00m\u001B[38;5;21;01mpyplot\u001B[39;00m \u001B[38;5;28;01mas\u001B[39;00m \u001B[38;5;21;01mplt\u001B[39;00m\n",
      "\u001B[1;31mModuleNotFoundError\u001B[0m: No module named 'deepxde'"
     ]
    }
   ],
   "execution_count": 2
  }
 ],
 "metadata": {
  "kernelspec": {
   "display_name": "Python 3",
   "language": "python",
   "name": "python3"
  },
  "language_info": {
   "codemirror_mode": {
    "name": "ipython",
    "version": 2
   },
   "file_extension": ".py",
   "mimetype": "text/x-python",
   "name": "python",
   "nbconvert_exporter": "python",
   "pygments_lexer": "ipython2",
   "version": "2.7.6"
  }
 },
 "nbformat": 4,
 "nbformat_minor": 5
}
