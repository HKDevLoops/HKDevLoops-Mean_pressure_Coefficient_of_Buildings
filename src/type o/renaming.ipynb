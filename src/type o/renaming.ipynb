{
 "cells": [
  {
   "cell_type": "code",
   "id": "initial_id",
   "metadata": {
    "collapsed": true,
    "ExecuteTime": {
     "end_time": "2025-03-16T14:35:07.048912Z",
     "start_time": "2025-03-16T14:35:06.173195Z"
    }
   },
   "source": [
    "import numpy as np\n",
    "import scipy.io as sio\n",
    "import tensorflow as tf\n",
    "from tensorflow.keras.models import Model\n",
    "from tensorflow.keras.layers import Input, Dense\n",
    "import matplotlib.pyplot as plt\n",
    "import os\n",
    "import re\n",
    "\n",
    "# Enable GPU if available\n",
    "physical_devices = tf.config.experimental.list_physical_devices('GPU')\n",
    "if physical_devices:\n",
    "    tf.config.experimental.set_memory_growth(physical_devices[0], True)\n",
    "\n",
    "# Function to load MAT files and extract metadata\n",
    "def load_mat_files(folder_path):\n",
    "    data = {}\n",
    "    filename_pattern = re.compile(r\"roof_type_(\\w+)_([0-9]+)_deg([0-9]+)\\.mat\")\n",
    "\n",
    "    for file in os.listdir(folder_path):\n",
    "        if file.endswith(\".mat\"):\n",
    "            match = filename_pattern.match(file)\n",
    "            if match:\n",
    "                roof_type = match.group(1)  # Extract roof type\n",
    "                height_ratio = int(match.group(2))  # Extract height ratio\n",
    "                wind_angle = int(match.group(3))  # Extract wind angle\n",
    "\n",
    "                mat_data = sio.loadmat(os.path.join(folder_path, file))\n",
    "                data[(roof_type, height_ratio, wind_angle)] = mat_data\n",
    "    return data\n",
    "\n",
    "# Specify the folder containing MAT files\n",
    "folder_path = \"C:/Users/rrsuj/Downloads/capstone/data\"\n",
    "data_dict = load_mat_files(folder_path)\n",
    "\n",
    "# Extract pressure coefficient values and corresponding metadata\n",
    "X_train, Y_train = [], []\n",
    "\n",
    "for (roof_type, height_ratio, wind_angle), mat_data in data_dict.items():\n",
    "    if 'Cp' in mat_data and isinstance(mat_data['Cp'], np.ndarray) and mat_data['Cp'].size > 0:\n",
    "        Cp = mat_data['Cp']  # Extract pressure coefficient matrix\n",
    "\n",
    "        # Flatten data and store\n",
    "        X_train.append([height_ratio, wind_angle])  # Height ratio and wind angle as inputs\n",
    "        Y_train.append([np.mean(Cp)])  # Pressure coefficient values\n",
    "\n",
    "# Convert to NumPy arrays\n",
    "X_train = np.array(X_train).reshape(-1, 2)\n",
    "Y_train = np.array(Y_train).reshape(-1, 1)\n",
    "\n",
    "print(\"Training Data Shape:\", X_train.shape, Y_train.shape)\n",
    "if X_train.shape[0] == 0 or Y_train.shape[0] == 0:\n",
    "    raise ValueError(\"Error: Training data is empty. Check if MAT files were loaded correctly.\")\n",
    "print(\"Sample X_train:\", X_train[:5])\n",
    "print(\"Sample Y_train:\", Y_train[:5])\n",
    "\n",
    "# Physics-Informed Loss (Bernoulli-based correction)\n",
    "def physics_loss(y_true, y_pred):\n",
    "    rho = 1.225  # Air density (kg/m³)\n",
    "    V_ref = 10  # Reference wind speed (m/s)\n",
    "    Cp_physics = 2 * (y_pred / (rho * V_ref**2))  # Bernoulli-based correction\n",
    "    return tf.reduce_mean(tf.square(y_true - Cp_physics))\n",
    "\n",
    "# Define Neural Network Architecture\n",
    "def build_pinn():\n",
    "    inputs = Input(shape=(2,))  # Two inputs: height ratio and wind angle\n",
    "    x = Dense(64, activation=\"tanh\")(inputs)\n",
    "    x = Dense(64, activation=\"tanh\")(x)\n",
    "    x = Dense(64, activation=\"tanh\")(x)\n",
    "    outputs = Dense(1, activation=\"linear\")(x)  # Output mean pressure coefficient\n",
    "    model = Model(inputs, outputs)\n",
    "    return model\n",
    "\n",
    "# Compile the PINN model\n",
    "pinn = build_pinn()\n",
    "pinn.compile(optimizer=tf.keras.optimizers.Adam(learning_rate=0.001), loss=physics_loss)\n",
    "\n",
    "# Summary of model\n",
    "pinn.summary()\n",
    "\n",
    "# Train the PINN model\n",
    "history = pinn.fit(X_train, Y_train, epochs=500, batch_size=32, verbose=1)\n",
    "\n",
    "# Plot Training Loss\n",
    "plt.plot(history.history['loss'], label=\"Training Loss\")\n",
    "plt.xlabel(\"Epochs\")\n",
    "plt.ylabel(\"Loss\")\n",
    "plt.legend()\n",
    "plt.title(\"Training Loss of PINN Model\")\n",
    "plt.show()\n",
    "\n",
    "# Test wind angles and height ratios (not seen in training data)\n",
    "test_data = np.array([[12, 15], [18, 37], [6, 60], [12, 75], [18, 95]])\n",
    "\n",
    "# Predict pressure coefficients\n",
    "predicted_Cp = pinn.predict(test_data)\n",
    "\n",
    "# Display Predictions\n",
    "for i, (height, angle) in enumerate(test_data):\n",
    "    print(f\"Predicted Mean Pressure Coefficient at Height Ratio {height}, Wind Angle {angle}°: {predicted_Cp[i][0]:.4f}\")\n"
   ],
   "outputs": [
    {
     "name": "stdout",
     "output_type": "stream",
     "text": [
      "Training Data Shape: (0, 2) (0, 1)\n"
     ]
    },
    {
     "ename": "ValueError",
     "evalue": "Error: Training data is empty. Check if MAT files were loaded correctly.",
     "output_type": "error",
     "traceback": [
      "\u001B[1;31m---------------------------------------------------------------------------\u001B[0m",
      "\u001B[1;31mValueError\u001B[0m                                Traceback (most recent call last)",
      "Cell \u001B[1;32mIn[7], line 53\u001B[0m\n\u001B[0;32m     51\u001B[0m \u001B[38;5;28mprint\u001B[39m(\u001B[38;5;124m\"\u001B[39m\u001B[38;5;124mTraining Data Shape:\u001B[39m\u001B[38;5;124m\"\u001B[39m, X_train\u001B[38;5;241m.\u001B[39mshape, Y_train\u001B[38;5;241m.\u001B[39mshape)\n\u001B[0;32m     52\u001B[0m \u001B[38;5;28;01mif\u001B[39;00m X_train\u001B[38;5;241m.\u001B[39mshape[\u001B[38;5;241m0\u001B[39m] \u001B[38;5;241m==\u001B[39m \u001B[38;5;241m0\u001B[39m \u001B[38;5;129;01mor\u001B[39;00m Y_train\u001B[38;5;241m.\u001B[39mshape[\u001B[38;5;241m0\u001B[39m] \u001B[38;5;241m==\u001B[39m \u001B[38;5;241m0\u001B[39m:\n\u001B[1;32m---> 53\u001B[0m     \u001B[38;5;28;01mraise\u001B[39;00m \u001B[38;5;167;01mValueError\u001B[39;00m(\u001B[38;5;124m\"\u001B[39m\u001B[38;5;124mError: Training data is empty. Check if MAT files were loaded correctly.\u001B[39m\u001B[38;5;124m\"\u001B[39m)\n\u001B[0;32m     54\u001B[0m \u001B[38;5;28mprint\u001B[39m(\u001B[38;5;124m\"\u001B[39m\u001B[38;5;124mSample X_train:\u001B[39m\u001B[38;5;124m\"\u001B[39m, X_train[:\u001B[38;5;241m5\u001B[39m])\n\u001B[0;32m     55\u001B[0m \u001B[38;5;28mprint\u001B[39m(\u001B[38;5;124m\"\u001B[39m\u001B[38;5;124mSample Y_train:\u001B[39m\u001B[38;5;124m\"\u001B[39m, Y_train[:\u001B[38;5;241m5\u001B[39m])\n",
      "\u001B[1;31mValueError\u001B[0m: Error: Training data is empty. Check if MAT files were loaded correctly."
     ]
    }
   ],
   "execution_count": 7
  }
 ],
 "metadata": {
  "kernelspec": {
   "display_name": "Python 3",
   "language": "python",
   "name": "python3"
  },
  "language_info": {
   "codemirror_mode": {
    "name": "ipython",
    "version": 2
   },
   "file_extension": ".py",
   "mimetype": "text/x-python",
   "name": "python",
   "nbconvert_exporter": "python",
   "pygments_lexer": "ipython2",
   "version": "2.7.6"
  }
 },
 "nbformat": 4,
 "nbformat_minor": 5
}
